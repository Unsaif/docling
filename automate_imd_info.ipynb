{
 "cells": [
  {
   "cell_type": "code",
   "execution_count": 1,
   "id": "c001cf48",
   "metadata": {},
   "outputs": [
    {
     "data": {
      "application/vnd.jupyter.widget-view+json": {
       "model_id": "5e987e8f06954a859b48daccda718dd4",
       "version_major": 2,
       "version_minor": 0
      },
      "text/plain": [
       "Processing PDFs:   0%|          | 0/2 [00:00<?, ?it/s]"
      ]
     },
     "metadata": {},
     "output_type": "display_data"
    },
    {
     "name": "stdout",
     "output_type": "stream",
     "text": [
      "➜  processing pdfs/pku.pdf\n",
      "    ↳ Word: processed_documents/pku_summary.docx\n",
      "➜  processing pdfs/aec.pdf\n",
      "    ↳ Word: processed_documents/aec_summary.docx\n",
      "\n",
      "✅  Done — individual .docx files and a master Excel/CSV saved.\n"
     ]
    }
   ],
   "source": [
    "import glob\n",
    "import os\n",
    "import pathlib\n",
    "from typing import List\n",
    "import pandas as pd\n",
    "from tqdm.auto import tqdm\n",
    "from utils.pdf_to_json_row import pdf_to_dataframe\n",
    "from utils.landscape_word_doc import row_to_landscape_doc\n",
    "import warnings\n",
    "\n",
    "warnings.filterwarnings(\"ignore\")   # hides every category, every module\n",
    "\n",
    "PDF_DIR = \"pdfs\"\n",
    "OUT_DIR = \"processed_documents\" \n",
    "\n",
    "records : List[dict] = []\n",
    "\n",
    "pdfs = glob.glob(os.path.join(PDF_DIR, \"*.pdf\"))\n",
    "\n",
    "for pdf_path in tqdm(pdfs, total=len(pdfs), desc=\"Processing PDFs\"):\n",
    "    print(f\"➜  processing {pdf_path}\")\n",
    "    df = pdf_to_dataframe(pdf_path)\n",
    "\n",
    "    records.append(df)\n",
    "\n",
    "    doc_name = (\n",
    "        pathlib.Path(OUT_DIR) /\n",
    "        f\"{pathlib.Path(pdf_path).stem}_summary.docx\"\n",
    "    )\n",
    "    \n",
    "    row_to_landscape_doc(df, doc_name)\n",
    "    print(f\"    ↳ Word: {doc_name}\")\n",
    "\n",
    "master = pd.concat(records, ignore_index=True)\n",
    "\n",
    "master.to_excel(os.path.join(OUT_DIR, \"all_summaries.xlsx\"), index=False)\n",
    "master.to_csv(os.path.join(OUT_DIR, \"all_summaries.csv\"),  index=False)\n",
    "\n",
    "print(\"\\n✅  Done — individual .docx files and a master Excel/CSV saved.\")"
   ]
  }
 ],
 "metadata": {
  "kernelspec": {
   "display_name": "3.12.3",
   "language": "python",
   "name": "python3"
  },
  "language_info": {
   "codemirror_mode": {
    "name": "ipython",
    "version": 3
   },
   "file_extension": ".py",
   "mimetype": "text/x-python",
   "name": "python",
   "nbconvert_exporter": "python",
   "pygments_lexer": "ipython3",
   "version": "3.12.3"
  }
 },
 "nbformat": 4,
 "nbformat_minor": 5
}
